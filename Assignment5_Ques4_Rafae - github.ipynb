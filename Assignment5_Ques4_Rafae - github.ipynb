{
 "cells": [
  {
   "cell_type": "code",
   "execution_count": 67,
   "metadata": {},
   "outputs": [],
   "source": [
    "#Loading libraries \n",
    "import imageio\n",
    "import cv2\n",
    "import numpy as np\n",
    "import matplotlib.pyplot as plt\n",
    "import matplotlib.image as img\n"
   ]
  },
  {
   "cell_type": "code",
   "execution_count": 82,
   "metadata": {},
   "outputs": [],
   "source": [
    "img = cv2.imread(r'/content/drive/MyDrive/input.png')\n",
    "height, width, channels = np.shape(img)\n",
    "#for i in width:\n",
    "#    for j in height:\n",
    "#        pixel = img[j][i] # Read the pixel at location (i,j)\n",
    "        #img[j][i] = newValue # Assign a new value to the pixel\n",
    "\n"
   ]
  },
  {
   "cell_type": "code",
   "execution_count": 83,
   "metadata": {},
   "outputs": [],
   "source": [
    "#To  randomly select K data points for K centrods. Then it will give K initial centrods\n",
    "\n",
    "def initialize_random_centroids(X,K):\n",
    "    points = np.reshape(img, (height * width, channels)) \n",
    "    print('points.shape',points.shape)\n",
    "    m, n = points.shape\n",
    "    \n",
    "    centroids = np.zeros((K, n))\n",
    "    \n",
    "    for i in range(K):\n",
    "        centroids[i,0] = points[np.random.choice(range(8)),0]\n",
    "        centroids[i,1] = points[np.random.choice(range(10)),1]\n",
    "        centroids[i,2] = points[np.random.choice(range(10)),2]\n",
    "    return points, centroids"
   ]
  },
  {
   "cell_type": "code",
   "execution_count": 84,
   "metadata": {},
   "outputs": [],
   "source": [
    "#To get the smallest elucidian distance from centroids and id\n",
    "def cal_distance(x1,y1, x2,y2):\n",
    "    dist = np.square(x1 - x2) + np.square(y1 - y2)\n",
    "    dist = np.sqrt(dist)\n",
    "    return dist"
   ]
  },
  {
   "cell_type": "code",
   "execution_count": 85,
   "metadata": {},
   "outputs": [],
   "source": [
    "#updating centroids\n",
    "def updateCentroids(points, centroids, clusterpoints, k):\n",
    "    \n",
    "    sumx = 0\n",
    "    sumy = 0\n",
    "    count = 0\n",
    "              \n",
    "    for j in range(len(points)):\n",
    "                  \n",
    "        if(clusterpoints[j] == k):\n",
    "            sumx += points[j, 0]\n",
    "            sumy += points[j, 1]\n",
    "            count += 1\n",
    "              \n",
    "    if(count == 0):\n",
    "        count = 1    \n",
    "              \n",
    "    centroids[k,0] = float(sumx / count)\n",
    "    centroids[k,1] = float(sumy / count)\n",
    "    return centroids"
   ]
  },
  {
   "cell_type": "code",
   "execution_count": 86,
   "metadata": {},
   "outputs": [],
   "source": [
    "def k_means(points, centroids, clusters):\n",
    "  \n",
    "    iterations = 10 \n",
    "    m, n = points.shape\n",
    "\n",
    "    clusterpoints = np.zeros(m) \n",
    "  \n",
    "    # k-means clustering\n",
    "    for i in range(iterations):\n",
    "  \n",
    "        for j in range(len(points)):\n",
    "              \n",
    "            # initial value\n",
    "            minv = 1000000\n",
    "            temp = None\n",
    "              \n",
    "            for k in range(clusters):\n",
    "                x1 = points[j, 0]\n",
    "                y1 = points[j, 1]\n",
    "                x2 = centroids[k, 0]\n",
    "                y2 = centroids[k, 1]\n",
    "                \n",
    "                if(cal_distance(x1, y1, x2, y2) < minv):         \n",
    "                    minv = cal_distance(x1, y1, x2, y2)\n",
    "                    clusterpoints[j] = k\n",
    "                \n",
    "          \n",
    "        for k in range(clusters):\n",
    "            centroids = updateCentroids(points, centroids, clusterpoints, k)\n",
    "  \n",
    "    return centroids, clusterpoints"
   ]
  },
  {
   "cell_type": "code",
   "execution_count": 87,
   "metadata": {},
   "outputs": [],
   "source": [
    "#To compress image based on each pixel's centroids\n",
    "def ImageCompression(centroids, clusterpoints, img):\n",
    "    clusterpoints=clusterpoints.astype(int)\n",
    "    reassignedPixels = centroids[clusterpoints, :]\n",
    "      \n",
    "    reassignedPixels = np.reshape(reassignedPixels, (height, width, channels))\n",
    "    plt.imshow(reassignedPixels)\n",
    "    plt.show()"
   ]
  },
  {
   "cell_type": "code",
   "execution_count": 88,
   "metadata": {},
   "outputs": [
    {
     "name": "stdout",
     "output_type": "stream",
     "text": [
      "points.shape (16384, 3)\n",
      "[[105. 185. 219.]\n",
      " [111. 187. 223.]\n",
      " [110. 180. 230.]\n",
      " [105. 185. 228.]\n",
      " [116. 185. 228.]\n",
      " [114. 172. 230.]\n",
      " [110. 187. 225.]\n",
      " [105. 186. 225.]\n",
      " [116. 180. 228.]\n",
      " [110. 185. 218.]\n",
      " [103. 183. 228.]\n",
      " [103. 185. 230.]\n",
      " [115. 179. 228.]\n",
      " [105. 183. 218.]\n",
      " [111. 186. 219.]\n",
      " [103. 183. 230.]]\n"
     ]
    },
    {
     "name": "stderr",
     "output_type": "stream",
     "text": [
      "Clipping input data to the valid range for imshow with RGB data ([0..1] for floats or [0..255] for integers).\n"
     ]
    },
    {
     "data": {
      "image/png": "[encoded data removed]",
      "text/plain": [
       "<Figure size 432x288 with 1 Axes>"
      ]
     },
     "metadata": {
      "needs_background": "light"
     },
     "output_type": "display_data"
    }
   ],
   "source": [
    "K=16\n",
    "points, centroids=initialize_random_centroids(img,K)\n",
    "print(centroids)\n",
    "centroids, clusterpoints = k_means(points, centroids, K)\n",
    "ImageCompression(centroids, clusterpoints, img)"
   ]
  },
  {
   "cell_type": "code",
   "execution_count": null,
   "metadata": {},
   "outputs": [],
   "source": []
  }
 ],
 "metadata": {
  "kernelspec": {
   "display_name": "Python 3.10.1 64-bit",
   "language": "python",
   "name": "python3"
  },
  "language_info": {
   "codemirror_mode": {
    "name": "ipython",
    "version": 3
   },
   "file_extension": ".py",
   "mimetype": "text/x-python",
   "name": "python",
   "nbconvert_exporter": "python",
   "pygments_lexer": "ipython3",
   "version": "3.10.1"
  },
  "orig_nbformat": 4,
  "vscode": {
   "interpreter": {
    "hash": "5722daad9755055b013a651651e76bfefcd0039befef69efb03fa00fbea6a530"
   }
  }
 },
 "nbformat": 4,
 "nbformat_minor": 2
}
